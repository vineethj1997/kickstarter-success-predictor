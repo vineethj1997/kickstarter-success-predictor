{
  "nbformat": 4,
  "nbformat_minor": 0,
  "metadata": {
    "colab": {
      "provenance": []
    },
    "kernelspec": {
      "name": "python3",
      "display_name": "Python 3"
    },
    "language_info": {
      "name": "python"
    }
  },
  "cells": [
    {
      "cell_type": "code",
      "source": [
        "import joblib\n",
        "import pandas as pd\n",
        "import numpy as np\n",
        "import seaborn as sns\n",
        "import matplotlib.pyplot as plt\n",
        "from time import time\n",
        "from sklearn.model_selection import train_test_split\n",
        "from sklearn.feature_extraction.text import TfidfVectorizer\n",
        "from sklearn.metrics import accuracy_score, classification_report, roc_curve, auc, roc_auc_score, silhouette_score, confusion_matrix"
      ],
      "metadata": {
        "id": "KH91_2DxrFHK"
      },
      "execution_count": null,
      "outputs": []
    },
    {
      "cell_type": "code",
      "source": [
        "#@title Loading data\n",
        "!curl -O https://raw.githubusercontent.com/rromer07/kickstarter-status-prediction/main/kickstarter_data_sampled_final.csv\n",
        "resampled_df = pd.read_csv('kickstarter_data_sampled_final.csv',header=0)\n",
        "\n",
        "# drop the ids and urls columns\n",
        "resampled_df = resampled_df.drop(columns=['id_new', 'urls'])\n",
        "\n",
        "# drop the 'garbage' rows\n",
        "resampled_df = resampled_df.drop([0, 2340, 2341, 2342, 2466, 2467])\n",
        "\n",
        "# fix the dtypes\n",
        "dtypes = {'goal': float, 'disable_communication': bool, 'staff_pick': bool, 'backers_count': int, 'deadline_month': int, 'deadline_day': int, 'deadline_hr': int, 'state_changed_at_month': int, 'state_changed_at_day': int, 'state_changed_at_hr': int, 'created_at_month': int, 'created_at_day': int, 'created_at_hr': int, 'launched_at_month': int, 'launched_at_day': int, 'launched_at_hr': int, 'create_to_launch_days': int, 'launch_to_deadline_days': int, 'launch_to_state_change_days': int, 'SuccessfulBool': int, 'USorGB': int, 'TOPCOUNTRY': int, 'LaunchedTuesday': int, 'DeadlineWeekend': int}\n",
        "resampled_df = resampled_df.astype(dtypes)\n",
        "\n",
        "# combining textual columns\n",
        "resampled_df['combined_text_data'] = resampled_df['additional description'].fillna('') + ' ' + \\\n",
        "                               resampled_df['slug'].fillna('') + ' ' + \\\n",
        "                               resampled_df['blurb'].fillna('') + ' ' + \\\n",
        "                               resampled_df['name'].fillna('')\n",
        "\n",
        "# Initializing TFIDF \n",
        "tfidf_vectorizer = TfidfVectorizer(max_df=0.90, # ignore terms that appear in more than 90% of the documents\n",
        "                                   min_df=5,    # ignore terms that are not present in at least 5 documents\n",
        "                                   #max_features=n_features, \n",
        "                                   encoding='utf-8', \n",
        "                                   stop_words='english', \n",
        "                                   strip_accents='unicode')\n",
        "\n",
        "# Learn vocabulary and idf, returns document-term matrix\n",
        "t0 = time()\n",
        "X_desc = tfidf_vectorizer.fit_transform(resampled_df['combined_text_data'].values.astype('U'))\n",
        "print(\"vectorization done in %0.3fs. \" % (time() - t0))\n",
        "print(f\"n_samples: {X_desc.shape[0]}, n_features: {X_desc.shape[1]}\")\n",
        "print(f\"Around {X_desc.nnz / np.prod(X_desc.shape):.3f}% of the entries in X_desc matrix are non-zero.\\n\")  # sparsity of the X_desc matrix as a fraction of non-zero entries divided by the total number of elements\n",
        "\n",
        "# dataframe with only numerical dtypes\n",
        "resampled_numerical = resampled_df.select_dtypes(include=['int64','float64'])\n",
        "\n",
        "# target variable \n",
        "y = resampled_df['SuccessfulBool']\n",
        "\n",
        "# train/test split for numerical data\n",
        "X_numerical = resampled_numerical.drop(['SuccessfulBool'], axis=1)\n",
        "X_train_numerical, X_test_numerical, y_train_numerical, y_test_numerical = train_test_split(X_numerical,y,test_size=0.2,random_state=0)\n",
        "X_train_numerical.shape, X_test_numerical.shape, y_train_numerical.shape, y_test_numerical.shape\n",
        "\n",
        "# train/test split for desecription data\n",
        "X_train_desc, X_test_desc, y_train_desc, y_test_desc = train_test_split(X_desc,y,test_size=0.2,random_state=0)\n",
        "X_train_desc.shape, X_test_desc.shape, y_train_desc.shape, y_test_desc.shape"
      ],
      "metadata": {
        "colab": {
          "base_uri": "https://localhost:8080/"
        },
        "id": "4fCOYbX3tt6X",
        "outputId": "6658f7d7-4a48-470a-ac39-ed414b6b3e6e"
      },
      "execution_count": null,
      "outputs": [
        {
          "output_type": "stream",
          "name": "stdout",
          "text": [
            "  % Total    % Received % Xferd  Average Speed   Time    Time     Time  Current\n",
            "                                 Dload  Upload   Total   Spent    Left  Speed\n",
            "100 9812k  100 9812k    0     0  46.0M      0 --:--:-- --:--:-- --:--:-- 46.0M\n",
            "vectorization done in 2.435s. \n",
            "n_samples: 2495, n_features: 10500\n",
            "Around 0.016% of the entries in X_desc matrix are non-zero.\n",
            "\n"
          ]
        },
        {
          "output_type": "execute_result",
          "data": {
            "text/plain": [
              "((1996, 10500), (499, 10500), (1996,), (499,))"
            ]
          },
          "metadata": {},
          "execution_count": 5
        }
      ]
    },
    {
      "cell_type": "code",
      "execution_count": null,
      "metadata": {
        "colab": {
          "base_uri": "https://localhost:8080/",
          "height": 39
        },
        "id": "Okp0oBs2qsXt",
        "outputId": "a4b3c5e2-c609-4fa8-89dc-0721feacf6ee"
      },
      "outputs": [
        {
          "output_type": "display_data",
          "data": {
            "text/plain": [
              "<IPython.core.display.HTML object>"
            ],
            "text/html": [
              "\n",
              "     <input type=\"file\" id=\"files-bf68d315-2215-4727-987a-c8cea1d1a217\" name=\"files[]\" multiple disabled\n",
              "        style=\"border:none\" />\n",
              "     <output id=\"result-bf68d315-2215-4727-987a-c8cea1d1a217\">\n",
              "      Upload widget is only available when the cell has been executed in the\n",
              "      current browser session. Please rerun this cell to enable.\n",
              "      </output>\n",
              "      <script>// Copyright 2017 Google LLC\n",
              "//\n",
              "// Licensed under the Apache License, Version 2.0 (the \"License\");\n",
              "// you may not use this file except in compliance with the License.\n",
              "// You may obtain a copy of the License at\n",
              "//\n",
              "//      http://www.apache.org/licenses/LICENSE-2.0\n",
              "//\n",
              "// Unless required by applicable law or agreed to in writing, software\n",
              "// distributed under the License is distributed on an \"AS IS\" BASIS,\n",
              "// WITHOUT WARRANTIES OR CONDITIONS OF ANY KIND, either express or implied.\n",
              "// See the License for the specific language governing permissions and\n",
              "// limitations under the License.\n",
              "\n",
              "/**\n",
              " * @fileoverview Helpers for google.colab Python module.\n",
              " */\n",
              "(function(scope) {\n",
              "function span(text, styleAttributes = {}) {\n",
              "  const element = document.createElement('span');\n",
              "  element.textContent = text;\n",
              "  for (const key of Object.keys(styleAttributes)) {\n",
              "    element.style[key] = styleAttributes[key];\n",
              "  }\n",
              "  return element;\n",
              "}\n",
              "\n",
              "// Max number of bytes which will be uploaded at a time.\n",
              "const MAX_PAYLOAD_SIZE = 100 * 1024;\n",
              "\n",
              "function _uploadFiles(inputId, outputId) {\n",
              "  const steps = uploadFilesStep(inputId, outputId);\n",
              "  const outputElement = document.getElementById(outputId);\n",
              "  // Cache steps on the outputElement to make it available for the next call\n",
              "  // to uploadFilesContinue from Python.\n",
              "  outputElement.steps = steps;\n",
              "\n",
              "  return _uploadFilesContinue(outputId);\n",
              "}\n",
              "\n",
              "// This is roughly an async generator (not supported in the browser yet),\n",
              "// where there are multiple asynchronous steps and the Python side is going\n",
              "// to poll for completion of each step.\n",
              "// This uses a Promise to block the python side on completion of each step,\n",
              "// then passes the result of the previous step as the input to the next step.\n",
              "function _uploadFilesContinue(outputId) {\n",
              "  const outputElement = document.getElementById(outputId);\n",
              "  const steps = outputElement.steps;\n",
              "\n",
              "  const next = steps.next(outputElement.lastPromiseValue);\n",
              "  return Promise.resolve(next.value.promise).then((value) => {\n",
              "    // Cache the last promise value to make it available to the next\n",
              "    // step of the generator.\n",
              "    outputElement.lastPromiseValue = value;\n",
              "    return next.value.response;\n",
              "  });\n",
              "}\n",
              "\n",
              "/**\n",
              " * Generator function which is called between each async step of the upload\n",
              " * process.\n",
              " * @param {string} inputId Element ID of the input file picker element.\n",
              " * @param {string} outputId Element ID of the output display.\n",
              " * @return {!Iterable<!Object>} Iterable of next steps.\n",
              " */\n",
              "function* uploadFilesStep(inputId, outputId) {\n",
              "  const inputElement = document.getElementById(inputId);\n",
              "  inputElement.disabled = false;\n",
              "\n",
              "  const outputElement = document.getElementById(outputId);\n",
              "  outputElement.innerHTML = '';\n",
              "\n",
              "  const pickedPromise = new Promise((resolve) => {\n",
              "    inputElement.addEventListener('change', (e) => {\n",
              "      resolve(e.target.files);\n",
              "    });\n",
              "  });\n",
              "\n",
              "  const cancel = document.createElement('button');\n",
              "  inputElement.parentElement.appendChild(cancel);\n",
              "  cancel.textContent = 'Cancel upload';\n",
              "  const cancelPromise = new Promise((resolve) => {\n",
              "    cancel.onclick = () => {\n",
              "      resolve(null);\n",
              "    };\n",
              "  });\n",
              "\n",
              "  // Wait for the user to pick the files.\n",
              "  const files = yield {\n",
              "    promise: Promise.race([pickedPromise, cancelPromise]),\n",
              "    response: {\n",
              "      action: 'starting',\n",
              "    }\n",
              "  };\n",
              "\n",
              "  cancel.remove();\n",
              "\n",
              "  // Disable the input element since further picks are not allowed.\n",
              "  inputElement.disabled = true;\n",
              "\n",
              "  if (!files) {\n",
              "    return {\n",
              "      response: {\n",
              "        action: 'complete',\n",
              "      }\n",
              "    };\n",
              "  }\n",
              "\n",
              "  for (const file of files) {\n",
              "    const li = document.createElement('li');\n",
              "    li.append(span(file.name, {fontWeight: 'bold'}));\n",
              "    li.append(span(\n",
              "        `(${file.type || 'n/a'}) - ${file.size} bytes, ` +\n",
              "        `last modified: ${\n",
              "            file.lastModifiedDate ? file.lastModifiedDate.toLocaleDateString() :\n",
              "                                    'n/a'} - `));\n",
              "    const percent = span('0% done');\n",
              "    li.appendChild(percent);\n",
              "\n",
              "    outputElement.appendChild(li);\n",
              "\n",
              "    const fileDataPromise = new Promise((resolve) => {\n",
              "      const reader = new FileReader();\n",
              "      reader.onload = (e) => {\n",
              "        resolve(e.target.result);\n",
              "      };\n",
              "      reader.readAsArrayBuffer(file);\n",
              "    });\n",
              "    // Wait for the data to be ready.\n",
              "    let fileData = yield {\n",
              "      promise: fileDataPromise,\n",
              "      response: {\n",
              "        action: 'continue',\n",
              "      }\n",
              "    };\n",
              "\n",
              "    // Use a chunked sending to avoid message size limits. See b/62115660.\n",
              "    let position = 0;\n",
              "    do {\n",
              "      const length = Math.min(fileData.byteLength - position, MAX_PAYLOAD_SIZE);\n",
              "      const chunk = new Uint8Array(fileData, position, length);\n",
              "      position += length;\n",
              "\n",
              "      const base64 = btoa(String.fromCharCode.apply(null, chunk));\n",
              "      yield {\n",
              "        response: {\n",
              "          action: 'append',\n",
              "          file: file.name,\n",
              "          data: base64,\n",
              "        },\n",
              "      };\n",
              "\n",
              "      let percentDone = fileData.byteLength === 0 ?\n",
              "          100 :\n",
              "          Math.round((position / fileData.byteLength) * 100);\n",
              "      percent.textContent = `${percentDone}% done`;\n",
              "\n",
              "    } while (position < fileData.byteLength);\n",
              "  }\n",
              "\n",
              "  // All done.\n",
              "  yield {\n",
              "    response: {\n",
              "      action: 'complete',\n",
              "    }\n",
              "  };\n",
              "}\n",
              "\n",
              "scope.google = scope.google || {};\n",
              "scope.google.colab = scope.google.colab || {};\n",
              "scope.google.colab._files = {\n",
              "  _uploadFiles,\n",
              "  _uploadFilesContinue,\n",
              "};\n",
              "})(self);\n",
              "</script> "
            ]
          },
          "metadata": {}
        }
      ],
      "source": [
        "#@title Loading numerical model\n",
        "from google.colab import files\n",
        "uploaded = files.upload()\n",
        "\n",
        "numerical_model = joblib.load('numerical.joblib')"
      ]
    },
    {
      "cell_type": "code",
      "source": [
        "# @title Loading numerical/categorical model\n",
        "# numerical_categorical_model = joblib.load('numerical')"
      ],
      "metadata": {
        "id": "jitRARN2tfmX"
      },
      "execution_count": null,
      "outputs": []
    },
    {
      "cell_type": "code",
      "source": [
        "#@title Loading textual model\n",
        "# textual_ensemble = joblib.load('textual_ensemble.joblib')\n",
        "textual_best_model = joblib.load('textual.joblib')"
      ],
      "metadata": {
        "id": "0rhyz-dYtYCj"
      },
      "execution_count": null,
      "outputs": []
    },
    {
      "cell_type": "markdown",
      "source": [
        "# Inference"
      ],
      "metadata": {
        "id": "owmKd3IuryPY"
      }
    },
    {
      "cell_type": "code",
      "source": [
        "# Predict class for both models\n",
        "y_pred_numerical = numerical_model.predict(X_test_numerical)\n",
        "y_pred_textual = textual_best_model.predict(X_test_desc)\n",
        "\n",
        "# Get prediction probabilities from both models\n",
        "y_pred_proba_numerical = numerical_model.predict_proba(X_test_numerical)\n",
        "y_pred_proba_textual = textual_best_model.predict_proba(X_test_desc)\n",
        "\n",
        "# combine the predicted probabilities using simple averaging\n",
        "probs_combined = (y_pred_proba_numerical + y_pred_proba_textual)/2\n",
        "\n",
        "# get the class predictions from the combined probabilities\n",
        "y_pred = np.argmax(probs_combined, axis=1)\n",
        "\n",
        "# calculate accuracy and classification report\n",
        "y_true = y_test_numerical\n",
        "accuracy = accuracy_score(y_true, y_pred)\n",
        "report = classification_report(y_true, y_pred)\n",
        "\n",
        "# print the results\n",
        "print(f'Accuracy: {accuracy}')\n",
        "print(f'Classification report:\\n{report}')"
      ],
      "metadata": {
        "colab": {
          "base_uri": "https://localhost:8080/"
        },
        "id": "Nli9lNBJrx1N",
        "outputId": "e7f2721b-180a-49d1-c5b4-b2c29b7d20d9"
      },
      "execution_count": null,
      "outputs": [
        {
          "output_type": "stream",
          "name": "stdout",
          "text": [
            "Accuracy: 0.9098196392785571\n",
            "Classification report:\n",
            "              precision    recall  f1-score   support\n",
            "\n",
            "           0       0.91      0.90      0.91       240\n",
            "           1       0.91      0.92      0.91       259\n",
            "\n",
            "    accuracy                           0.91       499\n",
            "   macro avg       0.91      0.91      0.91       499\n",
            "weighted avg       0.91      0.91      0.91       499\n",
            "\n"
          ]
        }
      ]
    }
  ]
}